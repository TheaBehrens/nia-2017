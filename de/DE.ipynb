{
 "cells": [
  {
   "cell_type": "code",
   "execution_count": 2,
   "metadata": {
    "collapsed": true
   },
   "outputs": [],
   "source": [
    "import numpy as np"
   ]
  },
  {
   "cell_type": "markdown",
   "metadata": {},
   "source": [
    "## Base selection"
   ]
  },
  {
   "cell_type": "code",
   "execution_count": 3,
   "metadata": {
    "collapsed": true
   },
   "outputs": [],
   "source": [
    "def select_bases_random(targets):\n",
    "    num_targets = len(targets)\n",
    "    base_indices = np.random.randint(0, num_targets, num_targets)\n",
    "    return targets[base_indices]\n",
    "\n",
    "def select_bases_permute(targets):\n",
    "    return np.random.permutation(targets)\n",
    "\n",
    "def select_bases_offset(targets, n=5):\n",
    "    return np.roll(targets, 5)"
   ]
  },
  {
   "cell_type": "markdown",
   "metadata": {},
   "source": [
    "## Differential generation"
   ]
  },
  {
   "cell_type": "code",
   "execution_count": 4,
   "metadata": {
    "collapsed": true
   },
   "outputs": [],
   "source": [
    "def differential_random(choices, F):\n",
    "    a, b = choices[np.random.randint(0, len(choices), 2)]\n",
    "    #a, b = choices[np.random.choice(choices.shape[0], 2, replace=False)]\n",
    "    return F * (a - b)\n",
    "\n",
    "def differential_random_2(choices, F):\n",
    "    a, b, c, d = choices[np.random.choice(choices.shape[0], size=4, replace=False)]\n",
    "    return F * (a - b) + F * (c - d)"
   ]
  },
  {
   "cell_type": "markdown",
   "metadata": {},
   "source": [
    "## Crossover"
   ]
  },
  {
   "cell_type": "code",
   "execution_count": 5,
   "metadata": {
    "collapsed": true
   },
   "outputs": [],
   "source": [
    "def crossover_binomial(target, donor, Cr):\n",
    "    dim = len(target)\n",
    "    r = np.random.randint(0, dim)\n",
    "    p = np.random.rand(dim) > Cr\n",
    "    p[r] = True\n",
    "    return np.where(p, target, donor)"
   ]
  },
  {
   "cell_type": "markdown",
   "metadata": {},
   "source": [
    "## Initialization"
   ]
  },
  {
   "cell_type": "code",
   "execution_count": 6,
   "metadata": {
    "collapsed": false
   },
   "outputs": [],
   "source": [
    "def init_uniform_random(n, min_values, max_values):\n",
    "    d = len(min_values)\n",
    "    result = np.zeros((n, d))\n",
    "    for i in range(n):\n",
    "        result[i, :] = np.random.uniform(min_values, max_values)\n",
    "    return result\n",
    "    #why does this not work? docs say output of lambda determines shape\n",
    "    #return np.fromfunction(lambda num,: np.random.uniform(min_values, max_values), shape = (n,), dtype=int)"
   ]
  },
  {
   "cell_type": "markdown",
   "metadata": {},
   "source": [
    "## DE main loop"
   ]
  },
  {
   "cell_type": "code",
   "execution_count": 19,
   "metadata": {
    "collapsed": false
   },
   "outputs": [],
   "source": [
    "def de(targets, fitness, F, Cr):\n",
    "    next_population = np.copy(targets)\n",
    "    bases = select_bases_permute(targets)\n",
    "    for i in range(len(targets)):#, target, base in enumerate(zip(targets, bases)):\n",
    "        target = targets[i]\n",
    "        base = bases[i]\n",
    "        diff = differential_random(targets, F)\n",
    "        donor = base + diff\n",
    "        trial = crossover_binomial(target, donor, Cr)\n",
    "        if fitness(trial) > fitness(target):\n",
    "            next_population[i, :] = trial  \n",
    "    return next_population"
   ]
  },
  {
   "cell_type": "markdown",
   "metadata": {},
   "source": [
    "## Fitness function"
   ]
  },
  {
   "cell_type": "code",
   "execution_count": 16,
   "metadata": {
    "collapsed": true
   },
   "outputs": [],
   "source": [
    "def demand(price, max_price, max_demand):\n",
    "    if price > max_price:\n",
    "        return 0.0\n",
    "    elif price <= 0.0:\n",
    "        return max_demand\n",
    "    else:\n",
    "        return max_demand - np.power(price, 2.0) * max_demand / np.power(max_price, 2.0)\n",
    "    \n",
    "def cost(amount, kwh_per_plant, cost_per_plant, max_plant):\n",
    "    if amount <= 0.0:\n",
    "        return 0.0\n",
    "    elif amount > kwh_per_plant * max_plant:\n",
    "        return np.finfo(np.float64).max\n",
    "    else:\n",
    "        return np.ceil(amount / kwh_per_plant) * cost_per_plant\n",
    "\n",
    "vec_demand = np.vectorize(demand)\n",
    "vec_cost = np.vectorize(cost)\n",
    "\n",
    "def market_model(max_prices, max_demands, kwh_per_plant, cost_per_plant, max_plant):\n",
    "    def fitness(x):\n",
    "        #x = np.maximum(x, 0.0)\n",
    "        e, s, p = np.split(x, 3)\n",
    "        s = np.maximum(s, 0.0)\n",
    "        d = vec_demand(p, max_prices, max_demands)\n",
    "        c = vec_cost(e, kwh_per_plant, cost_per_plant, max_plant)\n",
    "        revenue = np.sum(np.minimum(d, s) * p)\n",
    "        total_cost = np.sum(c) + np.maximum(np.sum(s) - np.sum(e), 0.0) * purchase_cost\n",
    "        profit = revenue - total_cost\n",
    "        return profit\n",
    "    return fitness"
   ]
  },
  {
   "cell_type": "markdown",
   "metadata": {},
   "source": [
    "## Experiment"
   ]
  },
  {
   "cell_type": "code",
   "execution_count": 20,
   "metadata": {
    "collapsed": false,
    "scrolled": false
   },
   "outputs": [
    {
     "name": "stdout",
     "output_type": "stream",
     "text": [
      "[000000] fitness: -1016428.06\n",
      "[000500] fitness: 1240969.56\n",
      "[001000] fitness: 1384398.46\n",
      "[001500] fitness: 1396827.50\n",
      "[002000] fitness: 1403100.90\n",
      "[002500] fitness: 1411321.62\n",
      "[003000] fitness: 1415096.53\n",
      "[003500] fitness: 1415721.73\n",
      "[004000] fitness: 1421602.26\n",
      "[004500] fitness: 1421602.26\n",
      "[005000] fitness: 1421662.11\n",
      "[005500] fitness: 1421662.11\n",
      "[006000] fitness: 1421662.11\n",
      "[006500] fitness: 1421677.79\n",
      "[007000] fitness: 1421708.81\n",
      "[007500] fitness: 1421708.81\n",
      "[008000] fitness: 1422123.09\n",
      "[008500] fitness: 1422142.45\n",
      "[009000] fitness: 1422905.00\n",
      "[009500] fitness: 1423161.98\n",
      "[010000] fitness: 1423161.98\n",
      "[010500] fitness: 1423198.31\n",
      "[011000] fitness: 1423200.83\n",
      "[011500] fitness: 1423281.65\n",
      "[012000] fitness: 1423351.14\n",
      "[012500] fitness: 1423353.41\n",
      "[013000] fitness: 1423394.05\n",
      "[013500] fitness: 1423409.05\n",
      "[014000] fitness: 1423430.57\n",
      "[014500] fitness: 1423430.57\n",
      "[015000] fitness: 1423461.90\n",
      "[015500] fitness: 1423496.80\n",
      "[016000] fitness: 1423527.93\n",
      "[016500] fitness: 1423585.21\n",
      "[017000] fitness: 1423628.87\n",
      "[017500] fitness: 1423642.69\n",
      "[018000] fitness: 1423664.14\n",
      "[018500] fitness: 1423689.69\n",
      "[019000] fitness: 1423689.69\n",
      "[019500] fitness: 1423720.64\n"
     ]
    },
    {
     "ename": "KeyboardInterrupt",
     "evalue": "",
     "output_type": "error",
     "traceback": [
      "\u001b[0;31m---------------------------------------------------------------------------\u001b[0m",
      "\u001b[0;31mKeyboardInterrupt\u001b[0m                         Traceback (most recent call last)",
      "\u001b[0;32m<ipython-input-20-bc7b7963f67a>\u001b[0m in \u001b[0;36m<module>\u001b[0;34m()\u001b[0m\n\u001b[1;32m     21\u001b[0m \u001b[0mpopulation\u001b[0m \u001b[1;33m=\u001b[0m \u001b[0minit_uniform_random\u001b[0m\u001b[1;33m(\u001b[0m\u001b[1;36m10\u001b[0m\u001b[1;33m,\u001b[0m \u001b[0mmin_values\u001b[0m\u001b[1;33m,\u001b[0m \u001b[0mmax_values\u001b[0m\u001b[1;33m)\u001b[0m\u001b[1;33m\u001b[0m\u001b[0m\n\u001b[1;32m     22\u001b[0m \u001b[1;32mfor\u001b[0m \u001b[0mi\u001b[0m \u001b[1;32min\u001b[0m \u001b[0mrange\u001b[0m\u001b[1;33m(\u001b[0m\u001b[0mmax_iterations\u001b[0m\u001b[1;33m)\u001b[0m\u001b[1;33m:\u001b[0m\u001b[1;33m\u001b[0m\u001b[0m\n\u001b[0;32m---> 23\u001b[0;31m     \u001b[0mpopulation\u001b[0m \u001b[1;33m=\u001b[0m \u001b[0mde\u001b[0m\u001b[1;33m(\u001b[0m\u001b[0mpopulation\u001b[0m\u001b[1;33m,\u001b[0m \u001b[0mfitness\u001b[0m\u001b[1;33m,\u001b[0m \u001b[0mF\u001b[0m\u001b[1;33m,\u001b[0m \u001b[0mCr\u001b[0m\u001b[1;33m)\u001b[0m\u001b[1;33m\u001b[0m\u001b[0m\n\u001b[0m\u001b[1;32m     24\u001b[0m     \u001b[0mbest_solution\u001b[0m \u001b[1;33m=\u001b[0m \u001b[0mmax\u001b[0m\u001b[1;33m(\u001b[0m\u001b[0mpopulation\u001b[0m\u001b[1;33m,\u001b[0m \u001b[0mkey\u001b[0m\u001b[1;33m=\u001b[0m\u001b[0mfitness\u001b[0m\u001b[1;33m)\u001b[0m\u001b[1;33m\u001b[0m\u001b[0m\n\u001b[1;32m     25\u001b[0m     \u001b[0mbest_fit\u001b[0m \u001b[1;33m=\u001b[0m \u001b[0mfitness\u001b[0m\u001b[1;33m(\u001b[0m\u001b[0mbest_solution\u001b[0m\u001b[1;33m)\u001b[0m\u001b[1;33m\u001b[0m\u001b[0m\n",
      "\u001b[0;32m<ipython-input-19-b9303ab55606>\u001b[0m in \u001b[0;36mde\u001b[0;34m(targets, fitness, F, Cr)\u001b[0m\n\u001b[1;32m      5\u001b[0m         \u001b[0mtarget\u001b[0m \u001b[1;33m=\u001b[0m \u001b[0mtargets\u001b[0m\u001b[1;33m[\u001b[0m\u001b[0mi\u001b[0m\u001b[1;33m]\u001b[0m\u001b[1;33m\u001b[0m\u001b[0m\n\u001b[1;32m      6\u001b[0m         \u001b[0mbase\u001b[0m \u001b[1;33m=\u001b[0m \u001b[0mbases\u001b[0m\u001b[1;33m[\u001b[0m\u001b[0mi\u001b[0m\u001b[1;33m]\u001b[0m\u001b[1;33m\u001b[0m\u001b[0m\n\u001b[0;32m----> 7\u001b[0;31m         \u001b[0mdiff\u001b[0m \u001b[1;33m=\u001b[0m \u001b[0mdifferential_random\u001b[0m\u001b[1;33m(\u001b[0m\u001b[0mtargets\u001b[0m\u001b[1;33m,\u001b[0m \u001b[0mF\u001b[0m\u001b[1;33m)\u001b[0m\u001b[1;33m\u001b[0m\u001b[0m\n\u001b[0m\u001b[1;32m      8\u001b[0m         \u001b[0mdonor\u001b[0m \u001b[1;33m=\u001b[0m \u001b[0mbase\u001b[0m \u001b[1;33m+\u001b[0m \u001b[0mdiff\u001b[0m\u001b[1;33m\u001b[0m\u001b[0m\n\u001b[1;32m      9\u001b[0m         \u001b[0mtrial\u001b[0m \u001b[1;33m=\u001b[0m \u001b[0mcrossover_binomial\u001b[0m\u001b[1;33m(\u001b[0m\u001b[0mtarget\u001b[0m\u001b[1;33m,\u001b[0m \u001b[0mdonor\u001b[0m\u001b[1;33m,\u001b[0m \u001b[0mCr\u001b[0m\u001b[1;33m)\u001b[0m\u001b[1;33m\u001b[0m\u001b[0m\n",
      "\u001b[0;32m<ipython-input-4-93912d2f7c1f>\u001b[0m in \u001b[0;36mdifferential_random\u001b[0;34m(choices, F)\u001b[0m\n\u001b[1;32m      1\u001b[0m \u001b[1;32mdef\u001b[0m \u001b[0mdifferential_random\u001b[0m\u001b[1;33m(\u001b[0m\u001b[0mchoices\u001b[0m\u001b[1;33m,\u001b[0m \u001b[0mF\u001b[0m\u001b[1;33m)\u001b[0m\u001b[1;33m:\u001b[0m\u001b[1;33m\u001b[0m\u001b[0m\n\u001b[0;32m----> 2\u001b[0;31m     \u001b[0ma\u001b[0m\u001b[1;33m,\u001b[0m \u001b[0mb\u001b[0m \u001b[1;33m=\u001b[0m \u001b[0mchoices\u001b[0m\u001b[1;33m[\u001b[0m\u001b[0mnp\u001b[0m\u001b[1;33m.\u001b[0m\u001b[0mrandom\u001b[0m\u001b[1;33m.\u001b[0m\u001b[0mrandint\u001b[0m\u001b[1;33m(\u001b[0m\u001b[1;36m0\u001b[0m\u001b[1;33m,\u001b[0m \u001b[0mlen\u001b[0m\u001b[1;33m(\u001b[0m\u001b[0mchoices\u001b[0m\u001b[1;33m)\u001b[0m\u001b[1;33m,\u001b[0m \u001b[1;36m2\u001b[0m\u001b[1;33m)\u001b[0m\u001b[1;33m]\u001b[0m\u001b[1;33m\u001b[0m\u001b[0m\n\u001b[0m\u001b[1;32m      3\u001b[0m     \u001b[1;31m#a, b = choices[np.random.choice(choices.shape[0], 2, replace=False)]\u001b[0m\u001b[1;33m\u001b[0m\u001b[1;33m\u001b[0m\u001b[0m\n\u001b[1;32m      4\u001b[0m     \u001b[1;32mreturn\u001b[0m \u001b[0mF\u001b[0m \u001b[1;33m*\u001b[0m \u001b[1;33m(\u001b[0m\u001b[0ma\u001b[0m \u001b[1;33m-\u001b[0m \u001b[0mb\u001b[0m\u001b[1;33m)\u001b[0m\u001b[1;33m\u001b[0m\u001b[0m\n\u001b[1;32m      5\u001b[0m \u001b[1;33m\u001b[0m\u001b[0m\n",
      "\u001b[0;31mKeyboardInterrupt\u001b[0m: "
     ]
    }
   ],
   "source": [
    "# model parameters\n",
    "max_prices = np.array([0.45, 0.25, 0.2])\n",
    "max_demands = np.array([2000000.0, 30000000.0, 20000000.0])\n",
    "kwh_per_plant = np.array([50000.0, 600000.0, 4000000.0])\n",
    "cost_per_plant = np.array([10000.0, 80000.0, 400000.0])\n",
    "max_plant = np.array([100, 50, 3])\n",
    "purchase_cost = 0.6\n",
    "fitness = market_model(max_prices, max_demands, kwh_per_plant, cost_per_plant, max_plant)\n",
    "\n",
    "# initialization bounds\n",
    "max_values = np.concatenate([(kwh_per_plant * max_plant), max_demands, max_prices])\n",
    "min_values = np.zeros(9)\n",
    "\n",
    "# de parameters\n",
    "F = 0.5\n",
    "Cr = 0.4\n",
    "N = 30\n",
    "\n",
    "max_iterations = 50000\n",
    "\n",
    "population = init_uniform_random(10, min_values, max_values)\n",
    "for i in range(max_iterations):\n",
    "    population = de(population, fitness, F, Cr)\n",
    "    best_solution = max(population, key=fitness)\n",
    "    best_fit = fitness(best_solution)\n",
    "    if i % 500 == 0:\n",
    "        print(\"[{:06d}] fitness: {:.2f}\".format(i, best_fit))"
   ]
  }
 ],
 "metadata": {
  "anaconda-cloud": {},
  "kernelspec": {
   "display_name": "Python [conda root]",
   "language": "python",
   "name": "conda-root-py"
  },
  "language_info": {
   "codemirror_mode": {
    "name": "ipython",
    "version": 3
   },
   "file_extension": ".py",
   "mimetype": "text/x-python",
   "name": "python",
   "nbconvert_exporter": "python",
   "pygments_lexer": "ipython3",
   "version": "3.5.2"
  }
 },
 "nbformat": 4,
 "nbformat_minor": 1
}
